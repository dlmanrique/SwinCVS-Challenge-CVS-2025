{
 "cells": [
  {
   "cell_type": "code",
   "execution_count": 1,
   "metadata": {},
   "outputs": [
    {
     "name": "stdout",
     "output_type": "stream",
     "text": [
      "Importing libraries...\n"
     ]
    },
    {
     "name": "stderr",
     "output_type": "stream",
     "text": [
      "/home/franek/anaconda3/envs/SwinMamba/lib/python3.12/site-packages/tqdm/auto.py:21: TqdmWarning: IProgress not found. Please update jupyter and ipywidgets. See https://ipywidgets.readthedocs.io/en/stable/user_install.html\n",
      "  from .autonotebook import tqdm as notebook_tqdm\n"
     ]
    }
   ],
   "source": [
    "print('Importing libraries...')\n",
    "# Standard library imports\n",
    "import os\n",
    "import shutil\n",
    "import time\n",
    "import random\n",
    "import json\n",
    "from copy import copy, deepcopy\n",
    "from pathlib import Path\n",
    "from typing import Tuple, Dict\n",
    "import warnings \n",
    "\n",
    "# Third-party imports\n",
    "import torch\n",
    "import torchvision\n",
    "import timm\n",
    "import numpy as np\n",
    "import pandas as pd\n",
    "import matplotlib.pyplot as plt\n",
    "from PIL import Image\n",
    "from sklearn.metrics import precision_recall_curve, average_precision_score\n",
    "from tqdm import tqdm\n",
    "from torch.utils.data import Sampler, Dataset, DataLoader\n",
    "import torch.nn as nn\n",
    "import torch.optim as optim\n",
    "from torchvision import transforms\n",
    "from torchvision.transforms import RandAugment\n",
    "from torch.nn import Linear\n",
    "from timm.data.auto_augment import auto_augment_transform\n",
    "\n",
    "# Local imports\n",
    "from scripts.functions_e2e import *\n",
    "\n",
    "# IMPORTS FROM MSFT GITHUB\n",
    "import yaml\n",
    "from argparse import Namespace\n",
    "from scripts.build import build_model, SwinLSTMModel\n",
    "from types import SimpleNamespace\n",
    "\n",
    "warnings.filterwarnings(\"ignore\")\n"
   ]
  },
  {
   "cell_type": "code",
   "execution_count": 2,
   "metadata": {},
   "outputs": [
    {
     "name": "stdout",
     "output_type": "stream",
     "text": [
      "cwd: /home/franek/SwinCVS\n"
     ]
    }
   ],
   "source": [
    "##############################################################################################\n",
    "##############################################################################################\n",
    "pwd = Path.cwd()\n",
    "print(f\"cwd: {pwd}\")\n",
    "\n",
    "cfg = 'config/SwinCVS.yaml'\n",
    "config_dict = read_config(cfg)\n",
    "config = config_to_yacs(config_dict)"
   ]
  },
  {
   "cell_type": "code",
   "execution_count": 3,
   "metadata": {},
   "outputs": [
    {
     "name": "stdout",
     "output_type": "stream",
     "text": [
      "Loading backbone weight weights/swinv2_base_patch4_window12to24_192to384_22kto1k_ft.pth\n",
      "Backbone weights loaded successfully!\n",
      "\n",
      "SwinCVS initialised successfully\n",
      "\n",
      "\n"
     ]
    }
   ],
   "source": [
    "model = None\n",
    "\n",
    "model = build_model(config)\n",
    "\n",
    "torch.cuda.empty_cache()\n",
    "\n",
    "# Readjust the fc layer\n",
    "model.to('cuda')\n",
    "print('SwinCVS initialised successfully\\n')\n",
    "\n",
    "model.load_state_dict(torch.load('weights/SwinV2LSTM_e2e_raw_mc_V3_sd5_bestMAP.pt'))\n",
    "model.to('cuda')\n",
    "print('')"
   ]
  },
  {
   "cell_type": "code",
   "execution_count": 4,
   "metadata": {},
   "outputs": [
    {
     "data": {
      "text/plain": [
       "tensor([[-6.6810, -6.8790, -5.5562]], device='cuda:0',\n",
       "       grad_fn=<AddmmBackward0>)"
      ]
     },
     "execution_count": 4,
     "metadata": {},
     "output_type": "execute_result"
    }
   ],
   "source": [
    "dummy = torch.rand(1, 5, 3, 384, 384).to('cuda')\n",
    "model(dummy)"
   ]
  }
 ],
 "metadata": {
  "kernelspec": {
   "display_name": "SwinMamba",
   "language": "python",
   "name": "python3"
  },
  "language_info": {
   "codemirror_mode": {
    "name": "ipython",
    "version": 3
   },
   "file_extension": ".py",
   "mimetype": "text/x-python",
   "name": "python",
   "nbconvert_exporter": "python",
   "pygments_lexer": "ipython3",
   "version": "3.12.7"
  }
 },
 "nbformat": 4,
 "nbformat_minor": 2
}
